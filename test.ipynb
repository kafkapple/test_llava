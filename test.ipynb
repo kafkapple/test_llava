{
 "cells": [
  {
   "cell_type": "code",
   "execution_count": 2,
   "metadata": {},
   "outputs": [
    {
     "name": "stdout",
     "output_type": "stream",
     "text": [
      "{\n",
      "  \"characters\": [\n",
      "    {\n",
      "      \"name\": \"Evelyn Everwood\",\n",
      "      \"occupation\": \"Mystic and Healer\",\n",
      "      \"personality\": \"Introspective, compassionate, and powerful\",\n",
      "      \"background\": \"Studied ancient magic and the mysteries of the universe, trained in various healing techniques, and has a deep understanding of the human spirit.\"\n",
      "    },\n",
      "    {\n",
      "      \"name\": \"Asher Blackwood\",\n",
      "      \"occupation\": \"Inventor and Tinkerer\",\n",
      "      \"personality\": \"Curious, inventive, and sometimes reckless\",\n",
      "      \"background\": \"A brilliant mind with a passion for innovation and experimentation. He has dedicated his life to creating groundbreaking inventions and pushing the boundaries of technology.\"\n",
      "    },\n",
      "    {\n",
      "      \"name\": \"Lila Moonwhisper\",\n",
      "      \"occupation\": \"Poet and Dreamweaver\",\n",
      "      \"personality\": \"Enigmatic, creative, and ethereal\",\n",
      "      \"background\": \"A visionary poet with a profound connection to the mysteries of the cosmos. She has the ability to weave powerful dreams and create enchanting verses that capture the essence of the unknown.\"\n",
      "    }\n",
      "  ]\n",
      "}\n"
     ]
    }
   ],
   "source": [
    "from openai import OpenAI\n",
    "import json\n",
    "\n",
    "# Initialize OpenAI client that points to the local LM Studio server\n",
    "client = OpenAI(\n",
    "    base_url=\"http://127.0.0.1:1234/v1\",\n",
    "    api_key=\"lm-studio\"\n",
    ")\n",
    "\n",
    "# Define the conversation with the AI\n",
    "messages = [\n",
    "    {\"role\": \"system\", \"content\": \"You are a helpful AI assistant.\"},\n",
    "    {\"role\": \"user\", \"content\": \"Create 1-3 fictional characters\"}\n",
    "]\n",
    "\n",
    "# Define the expected response structure\n",
    "character_schema = {\n",
    "    \"type\": \"json_schema\",\n",
    "    \"json_schema\": {\n",
    "        \"name\": \"characters\",\n",
    "        \"schema\": {\n",
    "            \"type\": \"object\",\n",
    "            \"properties\": {\n",
    "                \"characters\": {\n",
    "                    \"type\": \"array\",\n",
    "                    \"items\": {\n",
    "                        \"type\": \"object\",\n",
    "                        \"properties\": {\n",
    "                            \"name\": {\"type\": \"string\"},\n",
    "                            \"occupation\": {\"type\": \"string\"},\n",
    "                            \"personality\": {\"type\": \"string\"},\n",
    "                            \"background\": {\"type\": \"string\"}\n",
    "                        },\n",
    "                        \"required\": [\"name\", \"occupation\", \"personality\", \"background\"]\n",
    "                    },\n",
    "                    \"minItems\": 1,\n",
    "                }\n",
    "            },\n",
    "            \"required\": [\"characters\"]\n",
    "        },\n",
    "    }\n",
    "}\n",
    "\n",
    "# Get response from AI\n",
    "response = client.chat.completions.create(\n",
    "    model=\"emotional-llama-8b\",\n",
    "    messages=messages,\n",
    "    response_format=character_schema,\n",
    ")\n",
    "\n",
    "# Parse and display the results\n",
    "results = json.loads(response.choices[0].message.content)\n",
    "print(json.dumps(results, indent=2))\n"
   ]
  },
  {
   "cell_type": "code",
   "execution_count": null,
   "metadata": {},
   "outputs": [],
   "source": []
  }
 ],
 "metadata": {
  "kernelspec": {
   "display_name": "bori",
   "language": "python",
   "name": "python3"
  },
  "language_info": {
   "codemirror_mode": {
    "name": "ipython",
    "version": 3
   },
   "file_extension": ".py",
   "mimetype": "text/x-python",
   "name": "python",
   "nbconvert_exporter": "python",
   "pygments_lexer": "ipython3",
   "version": "3.10.15"
  }
 },
 "nbformat": 4,
 "nbformat_minor": 2
}
